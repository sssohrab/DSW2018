{
 "cells": [
  {
   "cell_type": "markdown",
   "metadata": {},
   "source": [
    "# Sparse Ternary Networks\n",
    "\n",
    "Sparse Ternary Networks consist of multi layers of units, each performing an encoding stage to come up with a latent code and a decoding stage to reconstruct the input from the latent code.\n",
    "\n",
    "The encoding at each unit is done using Sparse Ternary Codes (STC's), which was originally designed to address the probplem of fast search. These codes are sparse, i.e., they contain a large portion of zeros and also ternary, i.e., their alphabet is limited to three elements $\\mathcal{X} = \\{+1,0,-1\\}$. This makes their storage and implementation very efficient using fixed-point operations.\n",
    "\n",
    "See [these two](http://sip.unige.ch/articles/2017/Sohrab_ISIT17.pdf) [papers](http://sip.unige.ch/articles/2016/WIFS_2016_final.pdf) for more information regarding STC's for fast search and the motivations behind ternary encoding."
   ]
  },
  {
   "cell_type": "markdown",
   "metadata": {},
   "source": [
    "## Rate-distortion of synthetic sources\n",
    "\n",
    "We demonstrate the compression performance of the Sparse Ternary Networks by studying their rate-distortion performance in comparison with the Shannon Lower Bound, i.e., the best possible trade-off theoretically achievable when the dimension $n \\rightarrow \\infty$.\n",
    "\n",
    "We first consider Gaussian sources with known covariance matrices. As a special case, we consider the AR(1) process whose covariance matrix is very intuitive to construct.\n",
    "\n",
    "The idea behind choosing a synthetic source is to be able to compare the performance of the network with the theoretically ideal performance since, unlike real data, we (almost) know how to calculate it.\n"
   ]
  },
  {
   "cell_type": "code",
   "execution_count": 1,
   "metadata": {
    "collapsed": false
   },
   "outputs": [],
   "source": [
    "# First importing the required packages:\n",
    "%matplotlib inline\n",
    "import sparse_ternary_networks.Tools as T\n",
    "import numpy as np\n",
    "import sparse_ternary_networks.Basics as STNet\n",
    "from scipy.linalg import eigh\n",
    "from scipy.linalg import toeplitz\n",
    "import matplotlib.pyplot as plt"
   ]
  },
  {
   "cell_type": "code",
   "execution_count": 2,
   "metadata": {
    "collapsed": true
   },
   "outputs": [],
   "source": [
    "# Initializing the parameters:\n",
    "n = 512      # dimension\n",
    "m = 512       # dimension of the codes\n",
    "N = 10000     # number of samples, say for both train and test sets.\n",
    "k = 10         # number of non-zero elements of the STC at each stage.\n",
    "L = 25        # number of layer units of the network.\n",
    "Rho = 0.9     # the coefficient of the AR(1) source."
   ]
  },
  {
   "cell_type": "code",
   "execution_count": 3,
   "metadata": {
    "collapsed": false
   },
   "outputs": [],
   "source": [
    "# The covariance matrix of the AR(1) process with its toeplitz structure:\n",
    "cov_mat = toeplitz(Rho**np.arange(n))\n",
    "# Generating the train and test sets:\n",
    "F0_train = np.linalg.cholesky(cov_mat) @ np.random.randn(n,N)\n",
    "F0_test = np.linalg.cholesky(cov_mat) @ np.random.randn(n,N)\n",
    "# Normalization (scalar):\n",
    "# F0_train -= np.mean(F0_train)\n",
    "# F0_train /= np.std(F0_train)\n",
    "# #\n",
    "# F0_test -= np.mean(F0_test)\n",
    "# F0_test /= np.std(F0_test)"
   ]
  },
  {
   "cell_type": "markdown",
   "metadata": {},
   "source": [
    "### Theoretically optimal R-D performance of AR(1) sources:\n",
    "For i.i.d. sequences, as a special case of AR(1) (with $\\rho = 0$), the Shannon Lower Bound (SLB) for a source with variance $\\sigma^2$ has a closed-form expression:\n",
    "\n",
    "$D(R) = \\sigma^2 2^{-2R}.$\n",
    "\n",
    "For independent but not-identically distributed sequences, however, there is no closed-form expression and the rate-distortion follows the so-called \"reverse-water-filling\" paradigm (see e.g. [here](https://pdfs.semanticscholar.org/5b70/96d8e6d97bda53ed0ab9364c4840f274266e.pdf)).\n",
    "\n",
    "For non-independent sources, the reverse-water-filling procedure should be applied to the eigen-values of the covariance matrix as is done next.\n",
    "\n",
    "\n",
    "Bellow we perform the water-filling for the AR(1) process:"
   ]
  },
  {
   "cell_type": "code",
   "execution_count": 4,
   "metadata": {
    "collapsed": false
   },
   "outputs": [
    {
     "data": {
      "text/plain": [
       "<matplotlib.text.Text at 0x7f46581588d0>"
      ]
     },
     "execution_count": 4,
     "metadata": {},
     "output_type": "execute_result"
    },
    {
     "data": {
      "image/png": "[encoded data removed]",
      "text/plain": [
       "<matplotlib.figure.Figure at 0x7f468e0b7f98>"
      ]
     },
     "metadata": {},
     "output_type": "display_data"
    }
   ],
   "source": [
    "# SLB calculation using reverse-water-filling:\n",
    "EigValues, _ = eigh(cov_mat)\n",
    "Rate_SLB= np.linspace(0,4,100)\n",
    "Distortion_SLB = []\n",
    "for Rate in Rate_SLB:\n",
    "    Distortion_SLB.append(np.sum(T.rev_WaterFiller(EigValues,Rate)[3])/n)\n",
    "#\n",
    "plt.subplot(1,2,1)\n",
    "plt.plot(Rate_SLB,Distortion_SLB,color='BLACK') \n",
    "plt.grid()\n",
    "plt.xlabel('Rate')\n",
    "plt.ylabel('Distortion')\n",
    "#\n",
    "plt.subplot(1,2,2)\n",
    "plt.semilogy(Rate_SLB,Distortion_SLB,color='BLACK') \n",
    "plt.grid()\n",
    "plt.xlabel('Rate')\n",
    "plt.ylabel('Distortion')"
   ]
  },
  {
   "cell_type": "markdown",
   "metadata": {},
   "source": [
    "### Training the sparse ternary networks for the AR(1) source:\n",
    "We now train the sparse ternary networks on the above source and then use the trained parameters for the compression of the test set:"
   ]
  },
  {
   "cell_type": "code",
   "execution_count": 5,
   "metadata": {
    "collapsed": false
   },
   "outputs": [
    {
     "name": "stdout",
     "output_type": "stream",
     "text": [
      " ################## Starting to learn network parameters:  ##################\n",
      "layer-units:\n",
      "** 1 **** 2 **** 3 **** 4 **** 5 **** 6 **** 7 **** 8 **** 9 **** 10 **** 11 **** 12 **** 13 **** 14 **** 15 **\n",
      "** 16 **** 17 **** 18 **** 19 **** 20 **** 21 **** 22 **** 23 **** 24 **** 25 **\n",
      "Finished learning network parameters:\n"
     ]
    }
   ],
   "source": [
    "# Training the network:50\n",
    "obj_train = STNet.BaseLearner(k,L,m=m)\n",
    "_,_,_ = obj_train.run(F0_train)"
   ]
  },
  {
   "cell_type": "code",
   "execution_count": 6,
   "metadata": {
    "collapsed": false
   },
   "outputs": [
    {
     "name": "stdout",
     "output_type": "stream",
     "text": [
      " Running the network:\n",
      " ##################  Running the network:  ##################\n",
      "layer-units:\n",
      "** 1 **** 2 **** 3 **** 4 **** 5 **** 6 **** 7 **** 8 **** 9 **** 10 **** 11 **** 12 **** 13 **** 14 **** 15 **\n",
      "** 16 **** 17 **** 18 **** 19 **** 20 **** 21 **** 22 **** 23 **** 24 **** 25 **\n",
      "Finished running the network.\n"
     ]
    }
   ],
   "source": [
    "# Testing the network:\n",
    "obj_test = STNet.fwdPass(obj_train.params,k,ternaryProbMap=obj_train.prob_z)\n",
    "_,_,_ = obj_test.run(F0_test)"
   ]
  },
  {
   "cell_type": "markdown",
   "metadata": {},
   "source": [
    "Let's visualize the performance on the training set and the test set and compare them with the ideal theoretical lower bound. Note that this bound is achieved only asymptotically when $n \\rightarrow \\infty$."
   ]
  },
  {
   "cell_type": "code",
   "execution_count": 7,
   "metadata": {
    "collapsed": false
   },
   "outputs": [
    {
     "data": {
      "text/plain": [
       "<matplotlib.text.Text at 0x7f4643b56d30>"
      ]
     },
     "execution_count": 7,
     "metadata": {},
     "output_type": "execute_result"
    },
    {
     "data": {
      "image/png": "[encoded data removed]",
      "text/plain": [
       "<matplotlib.figure.Figure at 0x7f4643613908>"
      ]
     },
     "metadata": {},
     "output_type": "display_data"
    }
   ],
   "source": [
    "plt.subplot(1,2,1)\n",
    "plt.plot(obj_train.rate,obj_train.distortion)\n",
    "plt.plot(obj_test.rate,obj_test.distortion)\n",
    "plt.grid()\n",
    "plt.plot(Rate_SLB,Distortion_SLB,color='BLACK')\n",
    "plt.xlabel('Rate')\n",
    "plt.ylabel('Distortion')\n",
    "# \n",
    "plt.subplot(1,2,2)\n",
    "plt.semilogy(obj_train.rate,obj_train.distortion)\n",
    "plt.semilogy(obj_test.rate,obj_test.distortion)\n",
    "plt.grid()\n",
    "plt.semilogy(Rate_SLB,Distortion_SLB,color='BLACK')\n",
    "plt.xlabel('Rate')\n",
    "plt.ylabel('Distortion')"
   ]
  },
  {
   "cell_type": "markdown",
   "metadata": {
    "collapsed": false
   },
   "source": [
    "We can see a decent R-D performance on the AR(1) source. We should next see how we are doing on non-synthetic real data."
   ]
  },
  {
   "cell_type": "code",
   "execution_count": 8,
   "metadata": {
    "collapsed": false
   },
   "outputs": [],
   "source": [
    "# Learner = 'highCorr_SuccessivePCA'\n",
    "# Database = 'Synthetic'\n",
    "# PGF_path = '/home/sssohrab/Dropbox/Publications/ECCV_2018/Pics/PGF/Running/'\n",
    "# suffix = '_k' + str(int(np.mean(k))) + '_L' + str(L) + '_m' + str(int(np.mean(m))) + '_'+ Learner\n",
    "# ######\n",
    "# fname = Database + '_D_R'  + suffix\n",
    "# np.savetxt(PGF_path + fname + '.dat', np.transpose([obj_test.rate, obj_test.distortion]), fmt='%8f')\n",
    "# #####\n",
    "# fname = Database + '_Dhat_R'  + suffix\n",
    "# np.savetxt(PGF_path + fname + '.dat', np.transpose([obj_train.rate, obj_train.distortion]), fmt='%8f')"
   ]
  }
 ],
 "metadata": {
  "anaconda-cloud": {},
  "kernelspec": {
   "display_name": "Python [conda root]",
   "language": "python",
   "name": "conda-root-py"
  },
  "language_info": {
   "codemirror_mode": {
    "name": "ipython",
    "version": 3
   },
   "file_extension": ".py",
   "mimetype": "text/x-python",
   "name": "python",
   "nbconvert_exporter": "python",
   "pygments_lexer": "ipython3",
   "version": "3.5.4"
  }
 },
 "nbformat": 4,
 "nbformat_minor": 1
}
